{
  "nbformat": 4,
  "nbformat_minor": 0,
  "metadata": {
    "colab": {
      "provenance": [],
      "authorship_tag": "ABX9TyPr5J/Vj04lO/7YYf5CEK5E",
      "include_colab_link": true
    },
    "kernelspec": {
      "name": "python3",
      "display_name": "Python 3"
    },
    "language_info": {
      "name": "python"
    }
  },
  "cells": [
    {
      "cell_type": "markdown",
      "metadata": {
        "id": "view-in-github",
        "colab_type": "text"
      },
      "source": [
        "<a href=\"https://colab.research.google.com/github/captain-Akshay/Java_Code/blob/main/Testing.ipynb\" target=\"_parent\"><img src=\"https://colab.research.google.com/assets/colab-badge.svg\" alt=\"Open In Colab\"/></a>"
      ]
    },
    {
      "cell_type": "code",
      "execution_count": null,
      "metadata": {
        "id": "o4REAcElJ0HD"
      },
      "outputs": [],
      "source": []
    },
    {
      "cell_type": "markdown",
      "source": [
        "## Data Science with Python"
      ],
      "metadata": {
        "id": "3zf8h0ktK23c"
      }
    },
    {
      "cell_type": "markdown",
      "source": [
        "Data science is a field that uses scientific methods, processes, algorithms, and systems to extract knowledge and insights from data. Data scientists use a variety of programming languages, libraries, and tools to perform their work.\n",
        "\n",
        "Python is one of the most popular programming languages for data science. It is a general-purpose language that is easy to learn and use. Python has a large and active community, which means that there are many resources available to help you learn and use the language.\n",
        "\n",
        "In this notebook, we will introduce some of the basic concepts of data science and Python. We will also explore some of the most popular data science libraries in Python.\n",
        "\n"
      ],
      "metadata": {
        "id": "QsLyky38K20k"
      }
    },
    {
      "cell_type": "markdown",
      "source": [
        "Some of the most popular data science languages include:\n",
        "\n",
        "* Python\n",
        "* R\n",
        "* Julia\n",
        "* Scala\n",
        "* Java\n",
        "* C/C++"
      ],
      "metadata": {
        "id": "6-oiMKL5K2yr"
      }
    },
    {
      "cell_type": "markdown",
      "source": [
        "Some of the most popular data science libraries in Python include:\n",
        "\n",
        "* NumPy\n",
        "* Pandas\n",
        "* Matplotlib\n",
        "* SciPy\n",
        "* Scikit-learn\n",
        "* TensorFlow\n",
        "* PyTorch\n"
      ],
      "metadata": {
        "id": "WKUVRcYuK2w1"
      }
    },
    {
      "cell_type": "markdown",
      "source": [
        "| Tool | Description |\n",
        "\n",
        "|---|---|---|\n",
        "\n",
        "| Python | A general-purpose programming language that is popular for data science. |\n",
        "| R | A programming language and free software environment for statistical computing and graphics supported by the R Foundation for Statistical Computing. |\n",
        "| Julia | A high-level, high-performance, dynamic programming language for numerical computing. |\n",
        "| Scala | A general-purpose programming language that supports both functional and object-oriented programming. |\n",
        "| Java | A general-purpose programming language that is known for its portability and security. |\n",
        "| C/C++ | General-purpose programming languages that are known for their speed and efficiency. |\n",
        "| NumPy | A Python library that provides support for large, multi-dimensional arrays and matrices, along with a large collection of mathematical functions. |\n",
        "| Pandas | A Python library that provides data structures and data analysis tools for working with \"relational\" or \"labeled\" data. |\n",
        "| Matplotlib | A Python library that provides plotting functionality for data visualization. |\n",
        "| SciPy | A Python library that provides a wide range of scientific computing functions, including statistics, optimization, signal processing, and image processing. |\n",
        "| Scikit-learn | A Python library that provides a wide range of machine learning algorithms for tasks such as classification, regression, and clustering. |\n",
        "| TensorFlow | A Python library for machine learning and numerical computing. |\n",
        "| PyTorch | A Python library for machine learning and deep learning. |\n"
      ],
      "metadata": {
        "id": "GrlcIY2iK2u_"
      }
    },
    {
      "cell_type": "markdown",
      "source": [
        "Arithmetic expressions are used to perform mathematical operations on numbers. Some examples of arithmetic expressions include:\n",
        "\n",
        "* Addition: `1 + 2`\n",
        "* Subtraction: `1 - 2`\n",
        "* Multiplication: `1 * 2`\n",
        "* Division: `1 / 2`\n",
        "* Exponentiation: `1 ** 2`\n"
      ],
      "metadata": {
        "id": "pJB65ogiK2s8"
      }
    },
    {
      "cell_type": "markdown",
      "source": [
        "# Multiply two numbers\n",
        "product = 2 * 3\n",
        "\n",
        "# Add two numbers\n",
        "sum = 2 + 3\n",
        "\n",
        "# Print the results\n",
        "print(product)\n",
        "print(sum)"
      ],
      "metadata": {
        "id": "nhKNicvDK2rL"
      }
    },
    {
      "cell_type": "markdown",
      "source": [
        "# Get the number of minutes\n",
        "minutes = 60\n",
        "\n",
        "# Convert minutes to hours\n",
        "hours = minutes / 60\n",
        "\n",
        "# Print the result\n",
        "print(hours)"
      ],
      "metadata": {
        "id": "zC4ZEwH-K2pI"
      }
    },
    {
      "cell_type": "markdown",
      "source": [],
      "metadata": {
        "id": "r2UzC_lfK2nD"
      }
    },
    {
      "cell_type": "markdown",
      "source": [],
      "metadata": {
        "id": "VElDMw73K2h_"
      }
    },
    {
      "cell_type": "markdown",
      "source": [
        "Objectives:\n",
        "\n",
        "* Learn the basics of data science and Python.\n",
        "* Explore some of the most popular data science libraries in Python.\n",
        "* Gain hands-on experience with data science tasks using Python."
      ],
      "metadata": {
        "id": "Fnov_kC4J9k0"
      }
    },
    {
      "cell_type": "markdown",
      "source": [
        "### Author AKSHAY SHARMA"
      ],
      "metadata": {
        "id": "ukDXAhyPKCOM"
      }
    },
    {
      "cell_type": "code",
      "source": [],
      "metadata": {
        "id": "zxw_GMlRKM6y"
      },
      "execution_count": null,
      "outputs": []
    }
  ]
}